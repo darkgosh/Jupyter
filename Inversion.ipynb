{
 "cells": [
  {
   "cell_type": "code",
   "execution_count": 36,
   "id": "31ce7369",
   "metadata": {},
   "outputs": [
    {
     "name": "stdout",
     "output_type": "stream",
     "text": [
      "Cuantos USDs vas a invertir? 150000\n",
      "Dame la Tasa anual esperada: 11.09\n",
      "Dame el periodo en años: 12\n",
      "El interes mensual equivale a: 1386.25 USD 24259.375 MXN\n",
      "151386.25 USD 2649259.375 MXN\n",
      "152785.31126041667 USD 2673742.947057292 MXN\n",
      "154197.30217864836 USD 2698452.788126346 MXN\n",
      "155622.3422462827 USD 2723390.9893099475 MXN\n",
      "157060.55205920877 USD 2748559.6610361533 MXN\n",
      "158512.05332782262 USD 2773960.933236896 MXN\n",
      "159976.96888732724 USD 2799596.9555282267 MXN\n",
      "161455.42270812762 USD 2825469.8973922334 MXN\n",
      "162947.5399063219 USD 2851581.9483606336 MXN\n",
      "164453.4467542895 USD 2877935.318200066 MXN\n",
      "165973.27069137705 USD 2904532.2370990985 MXN\n",
      "167507.1403346832 USD 2931374.955856956 MXN\n",
      "Tu Capital Inicia fue de:150000 USD 2625000.0 MXN\n",
      "Tu Capital Final es: 167507.1403346832 USD 2931374.955856956MXN\n",
      "Tu Ganacia Anual es: 17507.14033468321 USD -2457492.859665317 MXN\n"
     ]
    }
   ],
   "source": [
    "inv_inicial = int(input('Cuantos USDs vas a invertir? '))\n",
    "inv         = inv_inicial\n",
    "int_anual   = float(input('Dame la Tasa anual esperada: '))\n",
    "anios       = int(input('Dame el periodo en años: '))\n",
    "usd = 17.5\n",
    "porcent     = int_anual/100\n",
    "roi_men   = (inv * porcent) / 12\n",
    "print('El interes mensual equivale a: '+ str(roi_men) + ' USD',  str(roi_men * usd) + ' MXN')\n",
    "for i in range(anios):\n",
    "    roi_men   = (inv * porcent) / 12\n",
    "    inv       = inv + roi_men\n",
    "    print(str(inv)+' USD',str(inv * usd) + ' MXN' )\n",
    "    i+1\n",
    "\n",
    "print('Tu Capital Inicia fue de:' + str(inv_inicial) + ' USD', str(inv_inicial * usd) + ' MXN')\n",
    "print('Tu Capital Final es: ' + str(inv) + ' USD', str(inv * usd) + 'MXN')\n",
    "print('Tu Ganacia Anual es: ' + str(inv-inv_inicial) + ' USD', str(inv-inv_inicial * usd) + ' MXN')\n"
   ]
  },
  {
   "cell_type": "code",
   "execution_count": 37,
   "id": "8e62e634",
   "metadata": {},
   "outputs": [
    {
     "name": "stdout",
     "output_type": "stream",
     "text": [
      "Cuantos USDs vas a invertir? 11000\n",
      "Dame la Tasa anual esperada: 15.01\n",
      "Dame el periodo en años: 5\n",
      "El interes mensual equivale a:  137.59 USD 2407.8250000000003 MXN\n",
      "11137.591666666667 USD 194907.8541666667 MXN\n",
      "11276.90437576389 USD 197345.82657586806 MXN\n",
      "11417.95965466407 USD 199814.29395662123 MXN\n",
      "11560.77930001116 USD 202313.63775019528 MXN\n",
      "11705.3853810888 USD 204844.244169054 MXN\n",
      "Tu Capital Inicia fue de: 11000 USD 192500.0 MXN\n",
      "Tu Capital Final es:  11705.39 USD 204844.32499999998 MXN\n",
      "Tu Ganancia Anual es:  705.39 USD 12344.324999999999 MXN\n"
     ]
    }
   ],
   "source": [
    "import math\n",
    "\n",
    "inv_inicial = int(input('Cuantos USDs vas a invertir? '))\n",
    "inv = inv_inicial\n",
    "int_anual = float(input('Dame la Tasa anual esperada: '))\n",
    "anios = int(input('Dame el periodo en años: '))\n",
    "usd = 17.5\n",
    "porcent = int_anual / 100\n",
    "roi_men = (inv * porcent) / 12\n",
    "\n",
    "# Redondear el interés mensual a 2 decimales\n",
    "roi_men_formateado = round(roi_men, 2)\n",
    "\n",
    "print('El interes mensual equivale a: ', str(roi_men_formateado) + ' USD', str(roi_men_formateado * usd) + ' MXN')\n",
    "\n",
    "for year in range(anios):\n",
    "    # Redondear el interés mensual a 2 decimales\n",
    "    roi_men = (inv * porcent) / 12\n",
    "    roi_men_formateado = round(roi_men, 2)\n",
    "\n",
    "    inv += roi_men\n",
    "    print(str(inv) + ' USD', str(inv * usd) + ' MXN')\n",
    "\n",
    "# Redondear el capital inicial a 2 decimales\n",
    "inv_inicial_formateado = round(inv_inicial, 2)\n",
    "\n",
    "# Redondear el capital final a 2 decimales\n",
    "inv_final_formateado = round(inv, 2)\n",
    "\n",
    "# Redondear la ganancia anual a 2 decimales\n",
    "ganancia_anual_formateado = round(inv - inv_inicial, 2)\n",
    "\n",
    "print('Tu Capital Inicia fue de:', str(inv_inicial_formateado) + ' USD', str(inv_inicial_formateado * usd) + ' MXN')\n",
    "print('Tu Capital Final es: ', str(inv_final_formateado) + ' USD', str(inv_final_formateado * usd) + ' MXN')\n",
    "print('Tu Ganancia Anual es: ', str(ganancia_anual_formateado) + ' USD', str(ganancia_anual_formateado * usd) + ' MXN')\n"
   ]
  },
  {
   "cell_type": "code",
   "execution_count": null,
   "id": "5563a613",
   "metadata": {},
   "outputs": [],
   "source": [
    "Este código funciona de la misma manera que el código anterior, pero usa la función round() para redondear \n",
    "los resultados a 2 decimales. En el caso del interés mensual, el código usa la siguiente línea:\n",
    "\n",
    "Python\n",
    "roi_men_formateado = round(roi_men, 2)\n",
    "Utiliza el código con precaución. Más información\n",
    "Esta línea redondea el valor de roi_men a 2 decimales y almacena el resultado en la variable roi_men_formateado. \n",
    "Luego, el código usa la variable roi_men_formateado para imprimir el resultado.\n",
    "\n",
    "En el caso del capital inicial, el capital final y la ganancia anual, el código usa la siguiente línea:\n",
    "\n",
    "Python\n",
    "valor_formateado = round(valor, 2)\n",
    "Utiliza el código con precaución. Más información\n",
    "Esta línea redondea el valor de valor a 2 decimales y almacena el resultado en la variable valor_formateado. \n",
    "Luego, el código usa la variable valor_formateado para imprimir el resultado.\n",
    "\n",
    "Aquí hay un ejemplo de cómo se imprimiría el código con este cambio:\n",
    "\n",
    "Cuantos USDs vas a invertir? 10000\n",
    "Dame la Tasa anual esperada: 12\n",
    "Dame el periodo en años: 5\n",
    "\n",
    "El interes mensual equivale a: 10.42 USD 177.03 MXN\n",
    "10042.19 USD 17742.19 MXN\n",
    "10042.19 USD 17742.19 MXN\n",
    "10042.19 USD 17742.19 MXN\n",
    "...\n",
    "\n",
    "Tu Capital Inicia fue de: 10000.00 USD 17500.00 MXN\n",
    "Tu Capital Final es: 20646.25 USD 35292.50 MXN\n",
    "Tu Ganancia Anual es: 10646.25 USD 17792.50 MXN\n",
    "Como puedes ver, los resultados ahora están topados a 2 decimales."
   ]
  },
  {
   "cell_type": "code",
   "execution_count": null,
   "id": "f9a0ab46",
   "metadata": {},
   "outputs": [],
   "source": []
  }
 ],
 "metadata": {
  "kernelspec": {
   "display_name": "Python 3 (ipykernel)",
   "language": "python",
   "name": "python3"
  },
  "language_info": {
   "codemirror_mode": {
    "name": "ipython",
    "version": 3
   },
   "file_extension": ".py",
   "mimetype": "text/x-python",
   "name": "python",
   "nbconvert_exporter": "python",
   "pygments_lexer": "ipython3",
   "version": "3.11.5"
  }
 },
 "nbformat": 4,
 "nbformat_minor": 5
}
