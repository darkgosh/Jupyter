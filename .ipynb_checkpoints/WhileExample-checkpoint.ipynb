{
 "cells": [
  {
   "cell_type": "markdown",
   "id": "eb546334",
   "metadata": {},
   "source": [
    "## Ejercicio 1: Imprimir los números del 1 al 10"
   ]
  },
  {
   "cell_type": "code",
   "execution_count": 3,
   "id": "488be5ef",
   "metadata": {},
   "outputs": [
    {
     "name": "stdout",
     "output_type": "stream",
     "text": [
      "Dame un numero del 1 al 100 5\n",
      "1\n",
      "2\n",
      "3\n",
      "4\n",
      "5\n"
     ]
    }
   ],
   "source": [
    "num = int(input('Dame un numero del 1 al 100 '))\n",
    "'''print(num)'''\n",
    "i=1\n",
    "while i <= num:\n",
    "    print(i)\n",
    "    i = i + 1\n"
   ]
  },
  {
   "cell_type": "code",
   "execution_count": null,
   "id": "ab538b1c",
   "metadata": {},
   "outputs": [],
   "source": []
  }
 ],
 "metadata": {
  "kernelspec": {
   "display_name": "Python 3 (ipykernel)",
   "language": "python",
   "name": "python3"
  },
  "language_info": {
   "codemirror_mode": {
    "name": "ipython",
    "version": 3
   },
   "file_extension": ".py",
   "mimetype": "text/x-python",
   "name": "python",
   "nbconvert_exporter": "python",
   "pygments_lexer": "ipython3",
   "version": "3.11.5"
  }
 },
 "nbformat": 4,
 "nbformat_minor": 5
}
