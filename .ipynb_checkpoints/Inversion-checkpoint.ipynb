{
 "cells": [
  {
   "cell_type": "code",
   "execution_count": 34,
   "id": "e8969d78",
   "metadata": {},
   "outputs": [
    {
     "ename": "SyntaxError",
     "evalue": "cannot assign to function call here. Maybe you meant '==' instead of '='? (4170630207.py, line 10)",
     "output_type": "error",
     "traceback": [
      "\u001b[1;36m  Cell \u001b[1;32mIn[34], line 10\u001b[1;36m\u001b[0m\n\u001b[1;33m    round(roi_men,2)   = (inv * porcent) / 12\u001b[0m\n\u001b[1;37m    ^\u001b[0m\n\u001b[1;31mSyntaxError\u001b[0m\u001b[1;31m:\u001b[0m cannot assign to function call here. Maybe you meant '==' instead of '='?\n"
     ]
    }
   ],
   "source": [
    "inv_inicial = int(input('Cuantos USDs vas a invertir? '))\n",
    "inv         = inv_inicial\n",
    "int_anual   = float(input('Dame la Tasa anual esperada: '))\n",
    "anios       = int(input('Dame el periodo en años: '))\n",
    "usd = 17.5\n",
    "porcent     = int_anual/100\n",
    "roi_men   = (inv * porcent) / 12\n",
    "print('El interes mensual equivale a: '+ str(roi_men) + ' USD',  str(roi_men * usd) + ' MXN')\n",
    "for i in range(anios):\n",
    "    roi_men   = (inv * porcent) / 12\n",
    "    inv       = inv + roi_men\n",
    "    print(str(inv)+' USD',str(inv * usd) + ' MXN' )\n",
    "    i+1\n",
    "\n",
    "print('Tu Capital Inicia fue de:' + str(inv_inicial) + ' USD', str(inv_inicial * usd) + ' MXN')\n",
    "print('Tu Capital Final es: ' + str(inv) + ' USD', str(inv * usd) + 'MXN')\n",
    "print('Tu Ganacia Anual es: ' + str(inv-inv_inicial) + ' USD', str(inv-inv_inicial * usd) + ' MXN')\n"
   ]
  },
  {
   "cell_type": "code",
   "execution_count": null,
   "id": "cc5e6438",
   "metadata": {},
   "outputs": [],
   "source": [
    "import math\n",
    "\n",
    "inv_inicial = int(input('Cuantos USDs vas a invertir? '))\n",
    "inv = inv_inicial\n",
    "int_anual = float(input('Dame la Tasa anual esperada: '))\n",
    "anios = int(input('Dame el periodo en años: '))\n",
    "usd = 17.5\n",
    "porcent = int_anual / 100\n",
    "roi_men = (inv * porcent) / 12\n",
    "\n",
    "# Redondear el interés mensual a 2 decimales\n",
    "roi_men_formateado = round(roi_men, 2)\n",
    "\n",
    "print('El interes mensual equivale a: ', str(roi_men_formateado) + ' USD', str(roi_men_formateado * usd) + ' MXN')\n",
    "\n",
    "for year in range(anios):\n",
    "    # Redondear el interés mensual a 2 decimales\n",
    "    roi_men = (inv * porcent) / 12\n",
    "    roi_men_formateado = round(roi_men, 2)\n",
    "\n",
    "    inv += roi_men\n",
    "    print(str(inv) + ' USD', str(inv * usd) + ' MXN')\n",
    "\n",
    "# Redondear el capital inicial a 2 decimales\n",
    "inv_inicial_formateado = round(inv_inicial, 2)\n",
    "\n",
    "# Redondear el capital final a 2 decimales\n",
    "inv_final_formateado = round(inv, 2)\n",
    "\n",
    "# Redondear la ganancia anual a 2 decimales\n",
    "ganancia_anual_formateado = round(inv - inv_inicial, 2)\n",
    "\n",
    "print('Tu Capital Inicia fue de:', str(inv_inicial_formateado) + ' USD', str(inv_inicial_formateado * usd) + ' MXN')\n",
    "print('Tu Capital Final es: ', str(inv_final_formateado) + ' USD', str(inv_final_formateado * usd) + ' MXN')\n",
    "print('Tu Ganancia Anual es: ', str(ganancia_anual_formateado) + ' USD', str(ganancia_anual_formateado * usd) + ' MXN')\n"
   ]
  },
  {
   "cell_type": "code",
   "execution_count": null,
   "id": "d0be670d",
   "metadata": {},
   "outputs": [],
   "source": [
    "Este código funciona de la misma manera que el código anterior, pero usa la función round() para redondear los resultados a 2 decimales. En el caso del interés mensual, el código usa la siguiente línea:\n",
    "\n",
    "Python\n",
    "roi_men_formateado = round(roi_men, 2)\n",
    "Utiliza el código con precaución. Más información\n",
    "Esta línea redondea el valor de roi_men a 2 decimales y almacena el resultado en la variable roi_men_formateado. Luego, el código usa la variable roi_men_formateado para imprimir el resultado.\n",
    "\n",
    "En el caso del capital inicial, el capital final y la ganancia anual, el código usa la siguiente línea:\n",
    "\n",
    "Python\n",
    "valor_formateado = round(valor, 2)\n",
    "Utiliza el código con precaución. Más información\n",
    "Esta línea redondea el valor de valor a 2 decimales y almacena el resultado en la variable valor_formateado. Luego, el código usa la variable valor_formateado para imprimir el resultado.\n",
    "\n",
    "Aquí hay un ejemplo de cómo se imprimiría el código con este cambio:\n",
    "\n",
    "Cuantos USDs vas a invertir? 10000\n",
    "Dame la Tasa anual esperada: 12\n",
    "Dame el periodo en años: 5\n",
    "\n",
    "El interes mensual equivale a: 10.42 USD 177.03 MXN\n",
    "10042.19 USD 17742.19 MXN\n",
    "10042.19 USD 17742.19 MXN\n",
    "10042.19 USD 17742.19 MXN\n",
    "...\n",
    "\n",
    "Tu Capital Inicia fue de: 10000.00 USD 17500.00 MXN\n",
    "Tu Capital Final es: 20646.25 USD 35292.50 MXN\n",
    "Tu Ganancia Anual es: 10646.25 USD 17792.50 MXN\n",
    "Como puedes ver, los resultados ahora están topados a 2 decimales."
   ]
  }
 ],
 "metadata": {
  "kernelspec": {
   "display_name": "Python 3 (ipykernel)",
   "language": "python",
   "name": "python3"
  },
  "language_info": {
   "codemirror_mode": {
    "name": "ipython",
    "version": 3
   },
   "file_extension": ".py",
   "mimetype": "text/x-python",
   "name": "python",
   "nbconvert_exporter": "python",
   "pygments_lexer": "ipython3",
   "version": "3.11.5"
  }
 },
 "nbformat": 4,
 "nbformat_minor": 5
}
