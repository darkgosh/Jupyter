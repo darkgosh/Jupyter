{
 "cells": [
  {
   "cell_type": "markdown",
   "id": "775552c1",
   "metadata": {},
   "source": [
    "cd c:/users/renat/OneDrive/Jupyter/\n"
   ]
  },
  {
   "cell_type": "markdown",
   "id": "d44d9705",
   "metadata": {},
   "source": [
    "- [ ]  Programa que pida: \n",
    "    - el punto de entrada \n",
    "    - el punto de venta \n",
    "    - el stop loss\n",
    "\n",
    "Mientras no se cumple la condición debe estar censando el precio de mercado hasta llegar al **target** o llegar al **stoploss**\n"
   ]
  },
  {
   "cell_type": "code",
   "execution_count": 14,
   "id": "a9a84a83",
   "metadata": {},
   "outputs": [
    {
     "name": "stdout",
     "output_type": "stream",
     "text": [
      "dame el precio de mercado: 1050\n",
      "dame el precio de mercado: 1099\n",
      "dame el precio de mercado: 990\n",
      "dame el precio de mercado: 900\n",
      "dame el precio de mercado: 899\n",
      "Perdiste\n",
      "La entrada es en: 1000 La toma de Ganancias esta en : 1100  El stop los esta en: 900\n"
     ]
    }
   ],
   "source": [
    "#position = int(input(' Dame el precio de entrada :'))\n",
    "#target   = int(input(' Dame el precio objetivo :'))\n",
    "#stoploss = int(input(' Dame el precio de stop :'))\n",
    "#price = int(input('dame el precio de mercado: '))\n",
    "\n",
    "position = 1000\n",
    "target   = 1100\n",
    "stoploss = 900\n",
    "price = int(input('dame el precio de mercado: '))\n",
    "while price >= stoploss :\n",
    "    price = int(input('dame el precio de mercado: '))\n",
    "    if price >= target:\n",
    "        print('Ganaste')\n",
    "        break\n",
    "    if price < stoploss:\n",
    "        print('Perdiste')\n",
    "        break\n",
    "    \n",
    "print('La entrada es en: ' + str(position), \n",
    "      'La toma de Ganancias esta en : ' + str(target),\n",
    "      ' El stop los esta en: '+ str(stoploss))\n",
    "    "
   ]
  },
  {
   "cell_type": "markdown",
   "id": "0c5bfc27",
   "metadata": {},
   "source": [
    "- [ ]  Necesito instalar librería para tomar el precio de mercado Necesito guardar ese precio una variable y imprimir esa variable en cada ciclo del while\n"
   ]
  },
  {
   "cell_type": "markdown",
   "id": "546b9d5a",
   "metadata": {},
   "source": [
    "- [ ]  Recibir parámetros de tradingview por medio de webhooks\n"
   ]
  },
  {
   "cell_type": "markdown",
   "id": "6877c371",
   "metadata": {},
   "source": [
    "- [ ]  Los parámetros que reciben de las alertas de tradingview deben ejecutar la creacion de posiciones en compras o venta, colocar el stoploss, colocar el target\n"
   ]
  },
  {
   "cell_type": "markdown",
   "id": "1b7485fa",
   "metadata": {},
   "source": [
    "- [ ] Debes llevarlo clima gestión de riesgos que calculen el porcentaje máximo de perdida me uno por 100 sobre un capital"
   ]
  }
 ],
 "metadata": {
  "kernelspec": {
   "display_name": "Python 3 (ipykernel)",
   "language": "python",
   "name": "python3"
  },
  "language_info": {
   "codemirror_mode": {
    "name": "ipython",
    "version": 3
   },
   "file_extension": ".py",
   "mimetype": "text/x-python",
   "name": "python",
   "nbconvert_exporter": "python",
   "pygments_lexer": "ipython3",
   "version": "3.11.5"
  }
 },
 "nbformat": 4,
 "nbformat_minor": 5
}
