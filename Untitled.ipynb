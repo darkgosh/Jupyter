{
 "cells": [
  {
   "cell_type": "code",
   "execution_count": 3,
   "id": "18fcc28b-09a1-4be6-abb2-e35f98d3d755",
   "metadata": {
    "collapsed": true,
    "jupyter": {
     "outputs_hidden": true
    }
   },
   "outputs": [
    {
     "name": "stdout",
     "output_type": "stream",
     "text": [
      "Requirement already satisfied: python-binance in c:\\users\\renat\\anaconda3\\lib\\site-packages (1.0.19)\n",
      "Requirement already satisfied: requests in c:\\users\\renat\\anaconda3\\lib\\site-packages (from python-binance) (2.32.3)\n",
      "Requirement already satisfied: six in c:\\users\\renat\\anaconda3\\lib\\site-packages (from python-binance) (1.16.0)\n",
      "Requirement already satisfied: dateparser in c:\\users\\renat\\anaconda3\\lib\\site-packages (from python-binance) (1.2.0)\n",
      "Requirement already satisfied: aiohttp in c:\\users\\renat\\anaconda3\\lib\\site-packages (from python-binance) (3.9.5)\n",
      "Requirement already satisfied: ujson in c:\\users\\renat\\anaconda3\\lib\\site-packages (from python-binance) (5.10.0)\n",
      "Requirement already satisfied: websockets in c:\\users\\renat\\anaconda3\\lib\\site-packages (from python-binance) (13.0.1)\n",
      "Requirement already satisfied: pycryptodome in c:\\users\\renat\\anaconda3\\lib\\site-packages (from python-binance) (3.20.0)\n",
      "Requirement already satisfied: aiosignal>=1.1.2 in c:\\users\\renat\\anaconda3\\lib\\site-packages (from aiohttp->python-binance) (1.2.0)\n",
      "Requirement already satisfied: attrs>=17.3.0 in c:\\users\\renat\\anaconda3\\lib\\site-packages (from aiohttp->python-binance) (23.1.0)\n",
      "Requirement already satisfied: frozenlist>=1.1.1 in c:\\users\\renat\\anaconda3\\lib\\site-packages (from aiohttp->python-binance) (1.4.0)\n",
      "Requirement already satisfied: multidict<7.0,>=4.5 in c:\\users\\renat\\anaconda3\\lib\\site-packages (from aiohttp->python-binance) (6.0.4)\n",
      "Requirement already satisfied: yarl<2.0,>=1.0 in c:\\users\\renat\\anaconda3\\lib\\site-packages (from aiohttp->python-binance) (1.9.3)\n",
      "Requirement already satisfied: python-dateutil in c:\\users\\renat\\anaconda3\\lib\\site-packages (from dateparser->python-binance) (2.9.0.post0)\n",
      "Requirement already satisfied: pytz in c:\\users\\renat\\anaconda3\\lib\\site-packages (from dateparser->python-binance) (2024.1)\n",
      "Requirement already satisfied: regex!=2019.02.19,!=2021.8.27 in c:\\users\\renat\\anaconda3\\lib\\site-packages (from dateparser->python-binance) (2023.10.3)\n",
      "Requirement already satisfied: tzlocal in c:\\users\\renat\\anaconda3\\lib\\site-packages (from dateparser->python-binance) (5.2)\n",
      "Requirement already satisfied: charset-normalizer<4,>=2 in c:\\users\\renat\\anaconda3\\lib\\site-packages (from requests->python-binance) (3.3.2)\n",
      "Requirement already satisfied: idna<4,>=2.5 in c:\\users\\renat\\anaconda3\\lib\\site-packages (from requests->python-binance) (3.7)\n",
      "Requirement already satisfied: urllib3<3,>=1.21.1 in c:\\users\\renat\\anaconda3\\lib\\site-packages (from requests->python-binance) (2.2.2)\n",
      "Requirement already satisfied: certifi>=2017.4.17 in c:\\users\\renat\\anaconda3\\lib\\site-packages (from requests->python-binance) (2024.7.4)\n",
      "Requirement already satisfied: tzdata in c:\\users\\renat\\anaconda3\\lib\\site-packages (from tzlocal->dateparser->python-binance) (2023.3)\n",
      "Requirement already satisfied: python-dotenv in c:\\users\\renat\\anaconda3\\lib\\site-packages (0.21.0)\n",
      "Requirement already satisfied: pandas in c:\\users\\renat\\anaconda3\\lib\\site-packages (2.2.2)\n",
      "Requirement already satisfied: numpy>=1.23.2 in c:\\users\\renat\\anaconda3\\lib\\site-packages (from pandas) (1.26.4)\n",
      "Requirement already satisfied: python-dateutil>=2.8.2 in c:\\users\\renat\\anaconda3\\lib\\site-packages (from pandas) (2.9.0.post0)\n",
      "Requirement already satisfied: pytz>=2020.1 in c:\\users\\renat\\anaconda3\\lib\\site-packages (from pandas) (2024.1)\n",
      "Requirement already satisfied: tzdata>=2022.7 in c:\\users\\renat\\anaconda3\\lib\\site-packages (from pandas) (2023.3)\n",
      "Requirement already satisfied: six>=1.5 in c:\\users\\renat\\anaconda3\\lib\\site-packages (from python-dateutil>=2.8.2->pandas) (1.16.0)\n"
     ]
    }
   ],
   "source": [
    "!pip install python-binance\n",
    "!pip install python-dotenv\n",
    "!pip install pandas"
   ]
  },
  {
   "cell_type": "code",
   "execution_count": 11,
   "id": "e77758b4-c92d-4a67-897a-e7a7868232dc",
   "metadata": {},
   "outputs": [
    {
     "data": {
      "text/plain": [
       "False"
      ]
     },
     "execution_count": 11,
     "metadata": {},
     "output_type": "execute_result"
    }
   ],
   "source": [
    "import pandas as pd\n",
    "from dotenv import load_dotenv\n",
    "load_dotenv() # read file from local .env"
   ]
  }
 ],
 "metadata": {
  "kernelspec": {
   "display_name": "Python 3 (ipykernel)",
   "language": "python",
   "name": "python3"
  },
  "language_info": {
   "codemirror_mode": {
    "name": "ipython",
    "version": 3
   },
   "file_extension": ".py",
   "mimetype": "text/x-python",
   "name": "python",
   "nbconvert_exporter": "python",
   "pygments_lexer": "ipython3",
   "version": "3.11.5"
  }
 },
 "nbformat": 4,
 "nbformat_minor": 5
}
